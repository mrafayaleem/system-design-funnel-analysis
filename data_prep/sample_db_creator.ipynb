{
 "cells": [
  {
   "cell_type": "markdown",
   "metadata": {},
   "source": [
    "# Create SQLite DB"
   ]
  },
  {
   "cell_type": "code",
   "execution_count": 31,
   "metadata": {},
   "outputs": [],
   "source": [
    "import sqlite3\n",
    "import pandas as pd\n",
    "import numpy as np"
   ]
  },
  {
   "cell_type": "code",
   "execution_count": 32,
   "metadata": {},
   "outputs": [],
   "source": [
    "con = sqlite3.connect(\"data/sample_db.sqlite\")"
   ]
  },
  {
   "cell_type": "code",
   "execution_count": 33,
   "metadata": {},
   "outputs": [],
   "source": [
    "users = pd.read_csv(\"data/users.csv\", index_col=\"user_id\")\n",
    "users.to_sql(\"users\", con, index_label=\"user_id\", if_exists=\"replace\")"
   ]
  },
  {
   "cell_type": "code",
   "execution_count": 34,
   "metadata": {},
   "outputs": [],
   "source": [
    "step1 = pd.read_csv(\"data/step1.csv\", index_col=\"user_id\")\n",
    "step1.to_sql(\"step1\", con, index_label=\"user_id\", if_exists=\"replace\")\n",
    "\n",
    "step2 = pd.read_csv(\"data/step2.csv\", index_col=\"user_id\")\n",
    "step2.to_sql(\"step2\", con, index_label=\"user_id\", if_exists=\"replace\")\n",
    "\n",
    "step3 = pd.read_csv(\"data/step3.csv\", index_col=\"user_id\")\n",
    "step3.to_sql(\"step3\", con, index_label=\"user_id\", if_exists=\"replace\")\n",
    "\n",
    "step4 = pd.read_csv(\"data/step4.csv\", index_col=\"user_id\")\n",
    "step4.to_sql(\"step4\", con, index_label=\"user_id\", if_exists=\"replace\")\n",
    "\n",
    "step5 = pd.read_csv(\"data/step5.csv\", index_col=\"user_id\")\n",
    "step5.to_sql(\"step5\", con, index_label=\"user_id\", if_exists=\"replace\")\n",
    "\n",
    "step6 = pd.read_csv(\"data/step6.csv\", index_col=\"user_id\")\n",
    "step6.to_sql(\"step6\", con, index_label=\"user_id\", if_exists=\"replace\")"
   ]
  }
 ],
 "metadata": {
  "kernelspec": {
   "display_name": "Python 3",
   "language": "python",
   "name": "python3"
  },
  "language_info": {
   "codemirror_mode": {
    "name": "ipython",
    "version": 3
   },
   "file_extension": ".py",
   "mimetype": "text/x-python",
   "name": "python",
   "nbconvert_exporter": "python",
   "pygments_lexer": "ipython3",
   "version": "3.7.6"
  }
 },
 "nbformat": 4,
 "nbformat_minor": 4
}
