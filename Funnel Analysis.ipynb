{
 "cells": [
  {
   "cell_type": "code",
   "execution_count": 1,
   "metadata": {},
   "outputs": [],
   "source": [
    "from datetime import datetime\n",
    "\n",
    "from pyspark.sql import SQLContext\n",
    "from pyspark.sql.functions import lit, col, udf\n",
    "from pyspark.sql import types"
   ]
  },
  {
   "cell_type": "code",
   "execution_count": 2,
   "metadata": {},
   "outputs": [],
   "source": [
    "spark = SparkSession.builder.appName('Funnel Analysis').config('spark.executor.cores','4').getOrCreate()\n",
    "\n",
    "sqlCtx = SQLContext(spark)"
   ]
  },
  {
   "cell_type": "markdown",
   "metadata": {},
   "source": [
    "### Load tables"
   ]
  },
  {
   "cell_type": "code",
   "execution_count": 53,
   "metadata": {},
   "outputs": [],
   "source": [
    "users = spark.read.parquet(\"spark_jobs/datalake/users-2020-10-16/\")\n",
    "step4_fact = spark.read.parquet(\"spark_jobs/warehouse/step4_fact_table-2020-10-16/\")\n",
    "step5_fact = spark.read.parquet(\"spark_jobs/warehouse/step5_fact_table-2020-10-16/\")\n",
    "step6_fact = spark.read.parquet(\"spark_jobs/warehouse/step6_fact_table-2020-10-16/\")\n",
    "\n",
    "users.createOrReplaceTempView(\"users\")\n",
    "step4_fact.createOrReplaceTempView(\"step4_fact\")\n",
    "step5_fact.createOrReplaceTempView(\"step5_fact\")\n",
    "step6_fact.createOrReplaceTempView(\"step6_fact\")"
   ]
  },
  {
   "cell_type": "code",
   "execution_count": 47,
   "metadata": {},
   "outputs": [
    {
     "name": "stdout",
     "output_type": "stream",
     "text": [
      "+-------+----------+-------+------+--------+\n",
      "|user_id|      date| device|   sex| channel|\n",
      "+-------+----------+-------+------+--------+\n",
      "| 450007|2015-02-28|Desktop|Female|  search|\n",
      "| 756838|2015-01-13|Desktop|  Male|paid_ads|\n",
      "| 568983|2015-04-09|Desktop|  Male|paid_ads|\n",
      "| 190794|2015-02-18|Desktop|Female|  search|\n",
      "| 537909|2015-01-15|Desktop|  Male|paid_ads|\n",
      "+-------+----------+-------+------+--------+\n",
      "only showing top 5 rows\n",
      "\n"
     ]
    }
   ],
   "source": [
    "users.show(5)"
   ]
  },
  {
   "cell_type": "code",
   "execution_count": 48,
   "metadata": {},
   "outputs": [
    {
     "name": "stdout",
     "output_type": "stream",
     "text": [
      "+-------+-------+\n",
      "|user_id|visited|\n",
      "+-------+-------+\n",
      "| 838832|      1|\n",
      "| 231324|      1|\n",
      "|  13830|      1|\n",
      "| 838723|      1|\n",
      "| 205344|      1|\n",
      "+-------+-------+\n",
      "only showing top 5 rows\n",
      "\n"
     ]
    }
   ],
   "source": [
    "step5_fact.show(5)"
   ]
  },
  {
   "cell_type": "code",
   "execution_count": 49,
   "metadata": {},
   "outputs": [
    {
     "name": "stdout",
     "output_type": "stream",
     "text": [
      "+-------+-------+\n",
      "|user_id|visited|\n",
      "+-------+-------+\n",
      "|  13830|      1|\n",
      "| 559850|      1|\n",
      "| 638114|      1|\n",
      "| 581956|      1|\n",
      "| 337704|      1|\n",
      "+-------+-------+\n",
      "only showing top 5 rows\n",
      "\n"
     ]
    }
   ],
   "source": [
    "step6_fact.show(5)"
   ]
  },
  {
   "cell_type": "markdown",
   "metadata": {},
   "source": [
    "## Page visit trend for step 6 by sex, channel and month"
   ]
  },
  {
   "cell_type": "code",
   "execution_count": 25,
   "metadata": {
    "scrolled": true
   },
   "outputs": [
    {
     "name": "stdout",
     "output_type": "stream",
     "text": [
      "+------------+------+--------+-----+\n",
      "|total_visits|   sex| channel|month|\n",
      "+------------+------+--------+-----+\n",
      "|          71|Female|paid_ads|    1|\n",
      "|          50|  Male|paid_ads|    1|\n",
      "|          30|  Male|  search|    1|\n",
      "|          38|Female|  search|    1|\n",
      "|          45|  Male|paid_ads|    2|\n",
      "|          34|Female|  search|    2|\n",
      "|          52|Female|paid_ads|    2|\n",
      "|          42|  Male|  search|    2|\n",
      "|           6|  Male|  search|    3|\n",
      "|          12|  Male|paid_ads|    3|\n",
      "|          15|Female|  search|    3|\n",
      "|          11|Female|paid_ads|    3|\n",
      "|          17|Female|paid_ads|    4|\n",
      "|           3|Female|  search|    4|\n",
      "|          13|  Male|  search|    4|\n",
      "|          13|  Male|paid_ads|    4|\n",
      "+------------+------+--------+-----+\n",
      "\n"
     ]
    }
   ],
   "source": [
    "spark.sql(\n",
    "    \"\"\"\n",
    "    SELECT SUM(visited) AS total_visits, sex, channel, MONTH(users.date) AS month\n",
    "    FROM step6_fact\n",
    "    INNER JOIN users\n",
    "    ON step6_fact.user_id = users.user_id\n",
    "    GROUP BY month, sex, channel\n",
    "    ORDER BY month\n",
    "    \"\"\"\n",
    ").show()"
   ]
  },
  {
   "cell_type": "markdown",
   "metadata": {},
   "source": [
    "## Percentage drop-off from step 5 to step 6 by sex and channel"
   ]
  },
  {
   "cell_type": "code",
   "execution_count": 44,
   "metadata": {},
   "outputs": [
    {
     "name": "stdout",
     "output_type": "stream",
     "text": [
      "+------------------+------------------+------+--------+-----------------+\n",
      "|total_step5_visits|total_step6_visits|   sex| channel|     perc_dropoff|\n",
      "+------------------+------------------+------+--------+-----------------+\n",
      "|              1170|                91|  Male|  search|92.22222222222223|\n",
      "|              1251|                90|Female|  search|92.80575539568345|\n",
      "|              1849|               151|Female|paid_ads| 91.8334234721471|\n",
      "|              1760|               120|  Male|paid_ads|93.18181818181819|\n",
      "+------------------+------------------+------+--------+-----------------+\n",
      "\n"
     ]
    }
   ],
   "source": [
    "spark.sql(\n",
    "    \"\"\"\n",
    "    SELECT SUM(step5_fact.visited) AS total_step5_visits, SUM(step6_fact.visited) AS total_step6_visits,\n",
    "    users.sex, users.channel,\n",
    "    (100 - (SUM(step6_fact.visited) / SUM(step5_fact.visited)) * 100) AS perc_dropoff\n",
    "    FROM step5_fact\n",
    "    LEFT JOIN step6_fact\n",
    "    ON step5_fact.user_id = step6_fact.user_id\n",
    "    INNER JOIN users\n",
    "    ON step5_fact.user_id = users.user_id\n",
    "    GROUP BY users.sex, users.channel\n",
    "    \"\"\"\n",
    ").show()"
   ]
  },
  {
   "cell_type": "markdown",
   "metadata": {},
   "source": [
    "## Percentage drop-off from step 4 to step 5 by sex, channel and month"
   ]
  },
  {
   "cell_type": "code",
   "execution_count": 67,
   "metadata": {},
   "outputs": [
    {
     "name": "stdout",
     "output_type": "stream",
     "text": [
      "+------------------+------------------+------+--------+-----+-----------------+\n",
      "|total_step4_visits|total_step5_visits|   sex| channel|month|     perc_dropoff|\n",
      "+------------------+------------------+------+--------+-----+-----------------+\n",
      "|              4169|               736|Female|paid_ads|    1|82.34588630366994|\n",
      "|              2744|               507|Female|  search|    1|81.52332361516035|\n",
      "|              4013|               697|  Male|paid_ads|    1|82.63144779466734|\n",
      "|              2628|               450|  Male|  search|    1|82.87671232876713|\n",
      "|              4132|               745|Female|paid_ads|    2|81.96999031945789|\n",
      "|              2688|               490|Female|  search|    2|81.77083333333334|\n",
      "|              2771|               494|  Male|  search|    2|82.17250090220136|\n",
      "|              4096|               683|  Male|paid_ads|    2|    83.3251953125|\n",
      "|              1695|               113|  Male|  search|    3|93.33333333333333|\n",
      "|              2728|               199|Female|paid_ads|    3|92.70527859237536|\n",
      "|              1726|               138|Female|  search|    3|92.00463499420626|\n",
      "|              2730|               181|  Male|paid_ads|    3|93.36996336996337|\n",
      "|              2798|               199|  Male|paid_ads|    4|92.88777698355969|\n",
      "|              2689|               169|Female|paid_ads|    4|93.71513573819264|\n",
      "|              1800|               116|Female|  search|    4|93.55555555555556|\n",
      "|              1793|               113|  Male|  search|    4|93.69771332961517|\n",
      "+------------------+------------------+------+--------+-----+-----------------+\n",
      "\n"
     ]
    }
   ],
   "source": [
    "spark.sql(\n",
    "    \"\"\"\n",
    "    SELECT SUM(step4_fact.visited) AS total_step4_visits, SUM(step5_fact.visited) AS total_step5_visits,\n",
    "    users.sex, users.channel, MONTH(users.date) AS month,\n",
    "    (100 - (SUM(step5_fact.visited) / SUM(step4_fact.visited)) * 100) AS perc_dropoff\n",
    "    FROM step4_fact\n",
    "    LEFT JOIN step5_fact\n",
    "    ON step4_fact.user_id = step5_fact.user_id\n",
    "    INNER JOIN users\n",
    "    ON step4_fact.user_id = users.user_id\n",
    "    GROUP BY users.sex, users.channel, month\n",
    "    ORDER BY month ASC\n",
    "    \"\"\"\n",
    ").show()"
   ]
  }
 ],
 "metadata": {
  "kernelspec": {
   "display_name": "Python 3",
   "language": "python",
   "name": "python3"
  },
  "language_info": {
   "codemirror_mode": {
    "name": "ipython",
    "version": 3
   },
   "file_extension": ".py",
   "mimetype": "text/x-python",
   "name": "python",
   "nbconvert_exporter": "python",
   "pygments_lexer": "ipython3",
   "version": "3.7.6"
  }
 },
 "nbformat": 4,
 "nbformat_minor": 4
}
