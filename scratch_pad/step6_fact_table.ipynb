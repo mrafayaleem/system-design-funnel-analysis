{
 "cells": [
  {
   "cell_type": "code",
   "execution_count": 29,
   "metadata": {},
   "outputs": [],
   "source": [
    "from datetime import datetime\n",
    "\n",
    "from pyspark.sql import SQLContext\n",
    "from pyspark.sql.functions import lit, col, udf\n",
    "from pyspark.sql import types"
   ]
  },
  {
   "cell_type": "code",
   "execution_count": 100,
   "metadata": {},
   "outputs": [],
   "source": [
    "sqlCtx = SQLContext(spark)"
   ]
  },
  {
   "cell_type": "code",
   "execution_count": 57,
   "metadata": {},
   "outputs": [],
   "source": [
    "users = spark.read.parquet(\"spark_jobs/output/users-2020-10-16/\")\n",
    "step6 = spark.read.parquet(\"spark_jobs/output/step6-2020-10-16\")"
   ]
  },
  {
   "cell_type": "code",
   "execution_count": 58,
   "metadata": {},
   "outputs": [],
   "source": [
    "users.createOrReplaceTempView(\"users\")\n",
    "step6.createOrReplaceTempView(\"step6\")"
   ]
  },
  {
   "cell_type": "code",
   "execution_count": 59,
   "metadata": {},
   "outputs": [],
   "source": [
    "func =  udf(lambda x: datetime.strptime(x, '%Y-%m-%d'), types.DateType())"
   ]
  },
  {
   "cell_type": "code",
   "execution_count": 60,
   "metadata": {},
   "outputs": [],
   "source": [
    "users = users.withColumn('date', func(col('date')))"
   ]
  },
  {
   "cell_type": "code",
   "execution_count": 61,
   "metadata": {},
   "outputs": [
    {
     "name": "stdout",
     "output_type": "stream",
     "text": [
      "root\n",
      " |-- user_id: integer (nullable = true)\n",
      " |-- date: date (nullable = true)\n",
      " |-- device: string (nullable = true)\n",
      " |-- sex: string (nullable = true)\n",
      " |-- channel: string (nullable = true)\n",
      "\n"
     ]
    }
   ],
   "source": [
    "users.printSchema()"
   ]
  },
  {
   "cell_type": "code",
   "execution_count": 62,
   "metadata": {},
   "outputs": [
    {
     "name": "stdout",
     "output_type": "stream",
     "text": [
      "Row(user_id=450007, date=datetime.date(2015, 2, 28), device='Desktop', sex='Female', channel='search')\n",
      "Row(user_id=123100, page='step6')\n"
     ]
    }
   ],
   "source": [
    "print(users.head())\n",
    "print(step6.head())"
   ]
  },
  {
   "cell_type": "code",
   "execution_count": 63,
   "metadata": {},
   "outputs": [],
   "source": [
    "step6_fact = spark.sql(\"\"\"\n",
    "SELECT users.user_id FROM\n",
    "users, step6\n",
    "WHERE users.user_id = step6.user_id\n",
    "\"\"\")"
   ]
  },
  {
   "cell_type": "code",
   "execution_count": 64,
   "metadata": {},
   "outputs": [],
   "source": [
    "step6_fact = step6_fact.withColumn(\"visited\", lit(1))"
   ]
  },
  {
   "cell_type": "code",
   "execution_count": 65,
   "metadata": {},
   "outputs": [],
   "source": [
    "step6_fact.createOrReplaceTempView(\"step6_fact\")"
   ]
  },
  {
   "cell_type": "markdown",
   "metadata": {},
   "source": [
    "### Visit trends by month"
   ]
  },
  {
   "cell_type": "code",
   "execution_count": 98,
   "metadata": {},
   "outputs": [
    {
     "name": "stdout",
     "output_type": "stream",
     "text": [
      "+------+-------+------+-------+-----+\n",
      "|visits| device|   sex|channel|month|\n",
      "+------+-------+------+-------+-----+\n",
      "|    30| Mobile|  Male| search|    2|\n",
      "|    26| Mobile|Female| search|    2|\n",
      "|    24| Mobile|Female| search|    1|\n",
      "|    19| Mobile|  Male| search|    1|\n",
      "|    14|Desktop|Female| search|    1|\n",
      "|    12|Desktop|  Male| search|    2|\n",
      "|    11| Mobile|Female| search|    3|\n",
      "|    11|Desktop|  Male| search|    1|\n",
      "|     9|Desktop|  Male| search|    4|\n",
      "|     8|Desktop|Female| search|    2|\n",
      "|     4| Mobile|  Male| search|    3|\n",
      "|     4|Desktop|Female| search|    3|\n",
      "|     4| Mobile|  Male| search|    4|\n",
      "|     2|Desktop|Female| search|    4|\n",
      "|     2|Desktop|  Male| search|    3|\n",
      "|     1| Mobile|Female| search|    4|\n",
      "+------+-------+------+-------+-----+\n",
      "\n"
     ]
    }
   ],
   "source": [
    "spark.sql(\"\"\"\n",
    "SELECT SUM(step6_fact.visited) AS visits, users.device, users.sex, users.channel, MONTH(users.date) AS month\n",
    "FROM step6_fact\n",
    "INNER JOIN users\n",
    "ON step6_fact.user_id = users.user_id\n",
    "AND channel = 'search'\n",
    "GROUP BY users.device, users.sex, users.channel, month\n",
    "ORDER BY visits DESC\n",
    "\"\"\").show()"
   ]
  },
  {
   "cell_type": "code",
   "execution_count": 103,
   "metadata": {},
   "outputs": [],
   "source": [
    "step6_fact.write.format(\"jdbc\").options(\n",
    "        url=\"jdbc:sqlite:/Users/aleemr/powerhouse/interviews/jerry-coding-challenge/data/test.sqlite\",\n",
    "        driver=\"org.sqlite.JDBC\",\n",
    "        dbtable=\"step6_fact\"\n",
    "    ).save()"
   ]
  }
 ],
 "metadata": {
  "kernelspec": {
   "display_name": "Python 3",
   "language": "python",
   "name": "python3"
  },
  "language_info": {
   "codemirror_mode": {
    "name": "ipython",
    "version": 3
   },
   "file_extension": ".py",
   "mimetype": "text/x-python",
   "name": "python",
   "nbconvert_exporter": "python",
   "pygments_lexer": "ipython3",
   "version": "3.7.6"
  }
 },
 "nbformat": 4,
 "nbformat_minor": 4
}
